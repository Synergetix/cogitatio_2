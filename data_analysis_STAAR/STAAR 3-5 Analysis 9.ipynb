{
 "cells": [
  {
   "cell_type": "markdown",
   "metadata": {},
   "source": [
    "# Collecting and wrangling data"
   ]
  },
  {
   "cell_type": "markdown",
   "metadata": {},
   "source": [
    "The goal is to create a dataframe by merging existing user data with generated data. The data will be used in machine learning classification algorithms to determine which lesson items should be removed.\n",
    "\n",
    "The dataframe should have:\n",
    "+ data about 'clone' lesson items (obtained using NLP)\n",
    "+ accuracy data for problem and theory lesson items\n",
    "+ duration data for problem and theory lesson items\n",
    "+ z-score accuracy data for problem and theory lesson items\n",
    "+ z-score duration data for problem and theory lesson items\n",
    "+ overall lesson duration data\n",
    "+ theory/problem indices indicating whether a lesson item is a theory or problem item\n",
    "+ data from a human expert on which items were selected to be removed \n"
   ]
  },
  {
   "cell_type": "code",
   "execution_count": 85,
   "metadata": {
    "collapsed": false
   },
   "outputs": [],
   "source": [
    "from docx import *\n",
    "import re, glob, os\n",
    "import numpy as np\n",
    "import scipy as sp\n",
    "from bs4 import BeautifulSoup\n",
    "import zipfile\n",
    "import sklearn\n",
    "import tempfile\n",
    "import pandas as pd\n",
    "import seaborn as sns\n",
    "\n",
    "from sklearn.feature_extraction.text import CountVectorizer\n",
    "from sklearn.feature_extraction.text import TfidfVectorizer\n",
    "from sklearn.metrics.pairwise import euclidean_distances\n",
    "from sklearn.metrics.pairwise import cosine_similarity\n",
    "from sklearn.manifold import MDS\n",
    "from mpl_toolkits.mplot3d import Axes3D\n",
    "from scipy.cluster.hierarchy import ward, dendrogram\n",
    "from IPython.display import display, HTML\n",
    "\n",
    "from patsy import dmatrices\n",
    "from sklearn.linear_model import LogisticRegression\n",
    "from sklearn.ensemble import RandomForestClassifier"
   ]
  },
  {
   "cell_type": "code",
   "execution_count": 86,
   "metadata": {
    "collapsed": false
   },
   "outputs": [
    {
     "name": "stdout",
     "output_type": "stream",
     "text": [
      "Populating the interactive namespace from numpy and matplotlib\n"
     ]
    },
    {
     "name": "stderr",
     "output_type": "stream",
     "text": [
      "WARNING: pylab import has clobbered these variables: ['plt', 'text', 'shape', 'table']\n",
      "`%matplotlib` prevents importing * from pylab and numpy\n"
     ]
    }
   ],
   "source": [
    "%pylab -- inline"
   ]
  },
  {
   "cell_type": "markdown",
   "metadata": {},
   "source": [
    "##1- Running NLP analysis code from python files"
   ]
  },
  {
   "cell_type": "code",
   "execution_count": 87,
   "metadata": {
    "collapsed": false
   },
   "outputs": [
    {
     "data": {
      "text/plain": [
       "<matplotlib.figure.Figure at 0x1f592278>"
      ]
     },
     "metadata": {},
     "output_type": "display_data"
    }
   ],
   "source": [
    "%run 'C:/Users/eabalo/Desktop/STAAR35Analyses/src/STAAR_preprocessing_code.py'\n",
    "%run 'C:/Users/eabalo/Desktop/STAAR35Analyses/src/LSA_code.py'"
   ]
  },
  {
   "cell_type": "markdown",
   "metadata": {},
   "source": [
    "## 2- Data Munging/Wrangling"
   ]
  },
  {
   "cell_type": "code",
   "execution_count": 88,
   "metadata": {
    "collapsed": true
   },
   "outputs": [],
   "source": [
    "#data folder\n",
    "datafolder = 'C:/Users/eabalo/Desktop/STAAR35Analyses/data/cleaned data/'"
   ]
  },
  {
   "cell_type": "code",
   "execution_count": 89,
   "metadata": {
    "collapsed": false
   },
   "outputs": [],
   "source": [
    "#Data collected from users\n",
    "df_deliv1 = pd.read_csv(datafolder + 'df_deliv1.csv')\n",
    "df_deliv2 = pd.read_csv(datafolder + 'df_deliv2.csv')\n",
    "df_lesson = pd.read_csv(datafolder + 'df_lesson.csv')\n",
    "df_problem = pd.read_csv(datafolder + 'df_problem.csv')\n",
    "df_labels = pd.read_csv(datafolder + 'df_labels.csv')"
   ]
  },
  {
   "cell_type": "code",
   "execution_count": 90,
   "metadata": {
    "collapsed": false
   },
   "outputs": [
    {
     "name": "stdout",
     "output_type": "stream",
     "text": [
      "Index([u'Theory UID', u'Lesson', u'Grade level', u'Supporting/Readiness',\n",
      "       u'50th percentile duration', u'80th percentile duration', u'ACCURACY',\n",
      "       u'Accuracy/Duration'],\n",
      "      dtype='object') \n",
      "(907, 8) \n",
      "\n",
      "Index([u'Problem UID', u'Lesson', u'Grade level', u'Supporting/Readiness',\n",
      "       u'Dataset', u'Problem-Dataset Accuracy %', u'IS Accuracy (%)',\n",
      "       u'Problem input control', u'Most common FR incorrect',\n",
      "       u'% of most common FR incorrect', u'Most common MC incorrect',\n",
      "       u'% of most common MC incorrect'],\n",
      "      dtype='object') \n",
      "(3752, 12) \n",
      "\n",
      "Index([u'Grade level', u'Problem UID', u'Accuracy',\n",
      "       u'50th percentile duration', u'80th percentile duration',\n",
      "       u'Used hints week', u'Used hints AY', u'Additional Problem',\n",
      "       u'Accuracy/Duration', u'Lesson', u'Supporting/Readiness'],\n",
      "      dtype='object') \n",
      "(769, 11) \n",
      "\n",
      "Index([u'Grade Level', u'Lesson', u'#assigned during this week',\n",
      "       u'#assigned during this AY', u'Accuracy for the week',\n",
      "       u'Accuracy for the AY', u'Time spent to complete 50% AY',\n",
      "       u'Time spent to complete 80% AY', u'Supporting/Readiness',\n",
      "       u'Accuracy/Duration'],\n",
      "      dtype='object') \n",
      "(117, 10) \n",
      "\n",
      "Index([u'Grade Level', u'Lesson', u'#assigned during this week',\n",
      "       u'#assigned during this AY', u'Accuracy for the week',\n",
      "       u'Accuracy for the AY', u'Time spent to complete 50% AY',\n",
      "       u'Time spent to complete 80% AY', u'Time 50% (min)', u'Time 80% (min)',\n",
      "       u'Over time? (R: over 60 min; S: over 45 min)',\n",
      "       u'Supporting/Readiness'],\n",
      "      dtype='object') \n",
      "(117, 12) \n",
      "\n"
     ]
    }
   ],
   "source": [
    "#column headers and dataframe dimensions\n",
    "for i in [df_deliv1, df_deliv2, df_problem, df_lesson, df_labels]:\n",
    "    print i.columns, '\\n', i.shape, '\\n'"
   ]
  },
  {
   "cell_type": "code",
   "execution_count": 91,
   "metadata": {
    "collapsed": false
   },
   "outputs": [],
   "source": [
    "df_deliv1.describe();"
   ]
  },
  {
   "cell_type": "code",
   "execution_count": 92,
   "metadata": {
    "collapsed": false
   },
   "outputs": [],
   "source": [
    "#dropping columns\n",
    "df_lesson.drop('Accuracy for the week', axis=1, inplace=True)\n",
    "\n",
    "#renaming columns\n",
    "df_lesson=df_lesson.rename(columns = {'Grade Level':'Grade level', 'Accuracy for the AY': 'Accuracy',\n",
    "                                     'Time spent to complete 80% AY': '80th percentile duration',\n",
    "                                     'Time spent to complete 50% AY': '50th percentile duration'})\n",
    "df_problem = df_problem.rename(columns={'GRADE': 'Grade level',\n",
    "                                        'Accuracy avg during AY': 'Accuracy',\n",
    "                                       'Time spent (50% threshold)': '50th percentile duration',\n",
    "                                       'Time spent (80% threshold)': '80th percentile duration'})\n",
    "df_deliv1 = df_deliv1.rename(columns = {'ACCURACY':'Accuracy'})\n",
    "\n",
    "#choosing non-'additional problem' data in df_problem\n",
    "df_problem = df_problem[df_problem['Additional Problem'] == 0]"
   ]
  },
  {
   "cell_type": "markdown",
   "metadata": {},
   "source": [
    "###2-1 Merging theory and problem data sets"
   ]
  },
  {
   "cell_type": "code",
   "execution_count": 93,
   "metadata": {
    "collapsed": true
   },
   "outputs": [],
   "source": [
    "#Merging theory and problem data sets\n",
    "df_thpr = pd.concat([df_deliv1, df_problem])\n",
    "\n",
    "#reordering and dropping columns\n",
    "df_thpr = pd.DataFrame(data = df_thpr, columns = ['Lesson', 'Grade level', 'Supporting/Readiness', 'Theory UID', 'Problem UID', \n",
    "                   '50th percentile duration', '80th percentile duration','Accuracy', 'Accuracy/Duration'])"
   ]
  },
  {
   "cell_type": "code",
   "execution_count": 94,
   "metadata": {
    "collapsed": false
   },
   "outputs": [
    {
     "name": "stdout",
     "output_type": "stream",
     "text": [
      "Index([u'Lesson', u'Grade level', u'Supporting/Readiness', u'Theory UID',\n",
      "       u'Problem UID', u'50th percentile duration',\n",
      "       u'80th percentile duration', u'Accuracy', u'Accuracy/Duration'],\n",
      "      dtype='object')\n",
      "(1676, 9)\n"
     ]
    }
   ],
   "source": [
    "print df_thpr.columns\n",
    "print df_thpr.shape"
   ]
  },
  {
   "cell_type": "markdown",
   "metadata": {},
   "source": [
    "### 2-2 Adding other features"
   ]
  },
  {
   "cell_type": "code",
   "execution_count": 95,
   "metadata": {
    "collapsed": true
   },
   "outputs": [],
   "source": [
    "#Theory index\n",
    "theoryindex = []\n",
    "for i in df_thpr['Theory UID']:\n",
    "    #sl = i.split('-')\n",
    "    if 'th' in str(i):\n",
    "        theoryindex.append(1)\n",
    "    else:\n",
    "        theoryindex.append(0)\n",
    "\n",
    "#Adding Theory index to df_thpr\n",
    "df_thpr['Theory?'] = theoryindex"
   ]
  },
  {
   "cell_type": "code",
   "execution_count": 96,
   "metadata": {
    "collapsed": true
   },
   "outputs": [],
   "source": [
    "#UID of lesson item\n",
    "df_thpr['UID'] = df_thpr['Theory UID']\n",
    "df_thpr['UID'].fillna(df_thpr['Problem UID'], inplace=True)\n",
    "\n",
    "#dropping columns\n",
    "df_thpr.drop(['Theory UID', 'Problem UID'], axis=1, inplace=True)"
   ]
  },
  {
   "cell_type": "code",
   "execution_count": 97,
   "metadata": {
    "collapsed": true
   },
   "outputs": [],
   "source": [
    "#Z-scores of duration and accuarcy for a given lesson and theory/problem items\n",
    "#http://pandas.pydata.org/pandas-docs/version/0.13.1/groupby.html\n",
    "zscore = lambda x: (x - x.mean()) / x.std()\n",
    "\n",
    "df_thpr['Duration z-score'] = df_thpr.groupby(['Lesson', 'Theory?']).transform(zscore)['80th percentile duration']\n",
    "\n",
    "df_thpr['Accuracy z-score'] = df_thpr.groupby(['Lesson', 'Theory?']).transform(zscore)['Accuracy']"
   ]
  },
  {
   "cell_type": "code",
   "execution_count": 98,
   "metadata": {
    "collapsed": false
   },
   "outputs": [],
   "source": [
    "#Adding overall lesson duration (80th percentile time) to df_thpr\n",
    "\n",
    "df_temp = pd.DataFrame()\n",
    "df_temp[['Lesson', 'Lesson duration']] = df_lesson[['Lesson', '80th percentile duration']]\n",
    "\n",
    "df_thpr = pd.merge(df_thpr, df_temp, on='Lesson')"
   ]
  },
  {
   "cell_type": "code",
   "execution_count": 99,
   "metadata": {
    "collapsed": false
   },
   "outputs": [
    {
     "name": "stdout",
     "output_type": "stream",
     "text": [
      "Index([u'Lesson', u'Grade level', u'Supporting/Readiness',\n",
      "       u'50th percentile duration', u'80th percentile duration', u'Accuracy',\n",
      "       u'Accuracy/Duration', u'Theory?', u'UID', u'Duration z-score',\n",
      "       u'Accuracy z-score', u'Lesson duration'],\n",
      "      dtype='object')\n",
      "(1676, 12)\n"
     ]
    }
   ],
   "source": [
    "print df_thpr.columns\n",
    "print df_thpr.shape"
   ]
  },
  {
   "cell_type": "markdown",
   "metadata": {},
   "source": [
    "#### Exporting df_thpr"
   ]
  },
  {
   "cell_type": "code",
   "execution_count": 100,
   "metadata": {
    "collapsed": true
   },
   "outputs": [],
   "source": [
    "#Exporting df_thpr\n",
    "\n",
    "cleandatapath = 'C:/Users/eabalo/Desktop/STAAR35Analyses/data/cleaned data/'\n",
    "\n",
    "df_thpr.to_csv(cleandatapath + 'df_theoryProblem.csv', index=False)"
   ]
  },
  {
   "cell_type": "markdown",
   "metadata": {},
   "source": [
    "###2-3 Selecting the 3 longest lessons per grade level per lesson type"
   ]
  },
  {
   "cell_type": "code",
   "execution_count": 101,
   "metadata": {
    "collapsed": false
   },
   "outputs": [],
   "source": [
    "#Finding the three longest lessons per grade per lesson type\n",
    "\n",
    "#initializing empty datframe\n",
    "df_temp0 = df_thpr[['Lesson', 'Supporting/Readiness', 'Grade level', 'Lesson duration']].copy(deep = True)\n",
    "df_temp0.drop_duplicates(inplace = True)\n",
    "df_temp1 = pd.DataFrame(columns = df_temp0.columns)\n",
    "#df_temp.columns = df_thpr.columns\n",
    "\n",
    "for lessontype in ['R', 'S']:\n",
    "    for g in range(3,6):\n",
    "        #duration\n",
    "        if lessontype == 'S':\n",
    "            durationlimit = 2700\n",
    "            data = df_temp0[(df_temp0['Supporting/Readiness']=='S') & (df_temp0['Lesson duration']>durationlimit) & (df_temp0['Grade level']== g)].sort('Lesson duration', ascending=False).head(3)\n",
    "        elif lessontype == 'R':\n",
    "            durationlimit = 3600\n",
    "            data = df_temp0[(df_temp0['Supporting/Readiness']=='R') & (df_temp0['Lesson duration']>durationlimit) & (df_temp0['Grade level']== g)].sort('Lesson duration', ascending=False).head(3)\n",
    "        #appeding data to dataframe\n",
    "        df_temp1 = df_temp1.append(data)\n",
    "\n",
    "df_temp1;"
   ]
  },
  {
   "cell_type": "code",
   "execution_count": 102,
   "metadata": {
    "collapsed": false
   },
   "outputs": [
    {
     "name": "stdout",
     "output_type": "stream",
     "text": [
      "['308A' '305E' '306A' '404H' '404A' '405B' '504H' '503K' '509C' '308B'\n",
      " '304G' '307C' '408AB' '404F' '404D' '504D' '507A' '503B']\n"
     ]
    }
   ],
   "source": [
    "print df_temp1['Lesson'].unique()"
   ]
  },
  {
   "cell_type": "code",
   "execution_count": 103,
   "metadata": {
    "collapsed": false
   },
   "outputs": [
    {
     "name": "stdout",
     "output_type": "stream",
     "text": [
      "['308A' '305E' '306A' '404H' '404A' '405B' '504H' '503K' '509C' '308B'\n",
      " '304G' '307C' '404F' '404D' '406C' '504D' '507A' '503B']\n",
      "(345, 12)\n"
     ]
    }
   ],
   "source": [
    "#Saving data for 3 longest lessons per grade per lesson type in dataframe\n",
    "df_thpr2 = pd.DataFrame(columns = df_thpr.columns)\n",
    "\n",
    "#Replacing '408AB' by '406C' because '406C' was analyzed instead of '408AB'\n",
    "#After tests, the model can be run of 408AB\n",
    "longlessons = ['308A', '305E', '306A', '404H', '404A', '405B', '504H', '503K', '509C', '308B',\n",
    " '304G', '307C', '404F', '404D', '406C', '504D', '507A', '503B']\n",
    "\n",
    "for lesson in longlessons:\n",
    "    data = df_thpr[df_thpr['Lesson'] == lesson]\n",
    "    df_thpr2 = df_thpr2.append(data)\n",
    "\n",
    "print df_thpr2['Lesson'].unique()\n",
    "\n",
    "print df_thpr2.shape\n",
    "\n",
    "df_thpr2.head();"
   ]
  },
  {
   "cell_type": "markdown",
   "metadata": {},
   "source": [
    "####Some theory items have 0 accuracy because there are no submits in those lesson items. So the accuracy can be set to 0."
   ]
  },
  {
   "cell_type": "code",
   "execution_count": 104,
   "metadata": {
    "collapsed": true
   },
   "outputs": [],
   "source": [
    "#fill missing data with 0:\n",
    "df_thpr2.fillna(0, inplace=True);"
   ]
  },
  {
   "cell_type": "markdown",
   "metadata": {},
   "source": [
    "###2-4 Adding clone index feature to data"
   ]
  },
  {
   "cell_type": "markdown",
   "metadata": {},
   "source": [
    "Lesson items are labeled with 1 if they are similar to other lesson items in the same lesson or 0 if otherwise. The algorithm applied is Latent Semantic Analysis (LSA). Two or more lesson items are considered 'clones' if the similarity index obtained from LSA and cosine similarity is less than 0.001."
   ]
  },
  {
   "cell_type": "markdown",
   "metadata": {},
   "source": [
    "####Sample lesson"
   ]
  },
  {
   "cell_type": "code",
   "execution_count": 140,
   "metadata": {
    "collapsed": false
   },
   "outputs": [
    {
     "data": {
      "image/png": "[encoded data removed]",
      "text/plain": [
       "<matplotlib.figure.Figure at 0x1befbba8>"
      ]
     },
     "metadata": {},
     "output_type": "display_data"
    },
    {
     "data": {
      "image/png": "[encoded data removed]",
      "text/plain": [
       "<matplotlib.figure.Figure at 0x1eedd278>"
      ]
     },
     "metadata": {},
     "output_type": "display_data"
    },
    {
     "data": {
      "image/png": "[encoded data removed]",
      "text/plain": [
       "<matplotlib.figure.Figure at 0x1fe77b38>"
      ]
     },
     "metadata": {},
     "output_type": "display_data"
    }
   ],
   "source": [
    "lessonpath = 'C:/Users/eabalo/Documents/STAAR2014/4g/405B/'\n",
    "lsa_dendrogram(lessonpath)\n",
    "lsa_mds_plot(lessonpath)\n",
    "lsa_heatmap(lessonpath)"
   ]
  },
  {
   "cell_type": "code",
   "execution_count": 141,
   "metadata": {
    "collapsed": false
   },
   "outputs": [
    {
     "data": {
      "text/html": [
       "<div style=\"max-height:1000px;max-width:1500px;overflow:auto;\">\n",
       "<table border=\"1\" class=\"dataframe\">\n",
       "  <thead>\n",
       "    <tr style=\"text-align: right;\">\n",
       "      <th></th>\n",
       "      <th>UID</th>\n",
       "      <th>Clone?</th>\n",
       "    </tr>\n",
       "  </thead>\n",
       "  <tbody>\n",
       "    <tr>\n",
       "      <th>0</th>\n",
       "      <td>TEKS405B-pr001</td>\n",
       "      <td>0</td>\n",
       "    </tr>\n",
       "    <tr>\n",
       "      <th>1</th>\n",
       "      <td>TEKS405B-pr002</td>\n",
       "      <td>0</td>\n",
       "    </tr>\n",
       "    <tr>\n",
       "      <th>2</th>\n",
       "      <td>TEKS405B-pr003</td>\n",
       "      <td>0</td>\n",
       "    </tr>\n",
       "    <tr>\n",
       "      <th>3</th>\n",
       "      <td>TEKS405B-pr004</td>\n",
       "      <td>1</td>\n",
       "    </tr>\n",
       "    <tr>\n",
       "      <th>4</th>\n",
       "      <td>TEKS405B-pr005</td>\n",
       "      <td>0</td>\n",
       "    </tr>\n",
       "    <tr>\n",
       "      <th>5</th>\n",
       "      <td>TEKS405B-pr006</td>\n",
       "      <td>0</td>\n",
       "    </tr>\n",
       "    <tr>\n",
       "      <th>6</th>\n",
       "      <td>TEKS405B-pr007</td>\n",
       "      <td>1</td>\n",
       "    </tr>\n",
       "  </tbody>\n",
       "</table>\n",
       "</div>"
      ],
      "text/plain": [
       "              UID  Clone?\n",
       "0  TEKS405B-pr001       0\n",
       "1  TEKS405B-pr002       0\n",
       "2  TEKS405B-pr003       0\n",
       "3  TEKS405B-pr004       1\n",
       "4  TEKS405B-pr005       0\n",
       "5  TEKS405B-pr006       0\n",
       "6  TEKS405B-pr007       1"
      ]
     },
     "metadata": {},
     "output_type": "display_data"
    },
    {
     "name": "stdout",
     "output_type": "stream",
     "text": [
      "(20, 2)\n"
     ]
    }
   ],
   "source": [
    "display(lsa_clone_index(lessonpath).head(7))\n",
    "print lsa_clone_index(lessonpath).shape"
   ]
  },
  {
   "cell_type": "markdown",
   "metadata": {},
   "source": [
    "####Clone indices for longest lessons"
   ]
  },
  {
   "cell_type": "code",
   "execution_count": null,
   "metadata": {
    "collapsed": false
   },
   "outputs": [],
   "source": [
    "#folder of lessons\n",
    "staarpath = 'C:/Users/eabalo/Documents/STAAR2014/'\n",
    "\n",
    "df_clone = pd.DataFrame(columns=['UID', 'Clone?'])\n",
    "\n",
    "#extracting text from lessons\n",
    "for lessonname in df_thpr2['Lesson'].unique():\n",
    "    \n",
    "    grade = lessonname[0]+'g'\n",
    "    \n",
    "    lessonpath = staarpath + grade + '/' + lessonname + '/'\n",
    "    \n",
    "    df_clone = df_clone.append(lsa_clone_index(lessonpath))\n",
    "    \n",
    "    #lesson number\n",
    "    #lessonname = lessonpath.split('/')[-2]"
   ]
  },
  {
   "cell_type": "code",
   "execution_count": 137,
   "metadata": {
    "collapsed": false
   },
   "outputs": [
    {
     "data": {
      "text/html": [
       "<div style=\"max-height:1000px;max-width:1500px;overflow:auto;\">\n",
       "<table border=\"1\" class=\"dataframe\">\n",
       "  <thead>\n",
       "    <tr style=\"text-align: right;\">\n",
       "      <th></th>\n",
       "      <th>UID</th>\n",
       "      <th>Clone?</th>\n",
       "    </tr>\n",
       "  </thead>\n",
       "  <tbody>\n",
       "    <tr>\n",
       "      <th>0</th>\n",
       "      <td>TEKS308A-pr001</td>\n",
       "      <td>0</td>\n",
       "    </tr>\n",
       "    <tr>\n",
       "      <th>1</th>\n",
       "      <td>TEKS308A-pr002</td>\n",
       "      <td>0</td>\n",
       "    </tr>\n",
       "    <tr>\n",
       "      <th>2</th>\n",
       "      <td>TEKS308A-pr003</td>\n",
       "      <td>0</td>\n",
       "    </tr>\n",
       "    <tr>\n",
       "      <th>3</th>\n",
       "      <td>TEKS308A-pr004</td>\n",
       "      <td>0</td>\n",
       "    </tr>\n",
       "    <tr>\n",
       "      <th>4</th>\n",
       "      <td>TEKS308A-pr005</td>\n",
       "      <td>0</td>\n",
       "    </tr>\n",
       "  </tbody>\n",
       "</table>\n",
       "</div>"
      ],
      "text/plain": [
       "              UID  Clone?\n",
       "0  TEKS308A-pr001       0\n",
       "1  TEKS308A-pr002       0\n",
       "2  TEKS308A-pr003       0\n",
       "3  TEKS308A-pr004       0\n",
       "4  TEKS308A-pr005       0"
      ]
     },
     "metadata": {},
     "output_type": "display_data"
    },
    {
     "name": "stdout",
     "output_type": "stream",
     "text": [
      "(345, 2)\n"
     ]
    }
   ],
   "source": [
    "display(df_clone.head())\n",
    "print df_clone.shape"
   ]
  },
  {
   "cell_type": "code",
   "execution_count": 109,
   "metadata": {
    "collapsed": false
   },
   "outputs": [],
   "source": [
    "#Adding the 'Clone' feature to the data\n",
    "df_thpr2 = pd.merge(df_thpr2, df_clone, on = 'UID')"
   ]
  },
  {
   "cell_type": "code",
   "execution_count": 110,
   "metadata": {
    "collapsed": false
   },
   "outputs": [
    {
     "name": "stdout",
     "output_type": "stream",
     "text": [
      "Index([u'Lesson', u'Grade level', u'Supporting/Readiness',\n",
      "       u'50th percentile duration', u'80th percentile duration', u'Accuracy',\n",
      "       u'Accuracy/Duration', u'Theory?', u'UID', u'Duration z-score',\n",
      "       u'Accuracy z-score', u'Lesson duration', u'Clone?'],\n",
      "      dtype='object')\n",
      "(345, 13)\n"
     ]
    }
   ],
   "source": [
    "print df_thpr2.columns\n",
    "\n",
    "print df_thpr2.shape"
   ]
  },
  {
   "cell_type": "code",
   "execution_count": 111,
   "metadata": {
    "collapsed": true
   },
   "outputs": [],
   "source": [
    "#Exporting data for 3 longest lessons per grade per lesson type (with Clone indices)\n",
    "\n",
    "cleandatapath = 'C:/Users/eabalo/Desktop/STAAR35Analyses/data/cleaned data/'\n",
    "\n",
    "df_thpr2.to_csv(cleandatapath + 'df_longLessons.csv', index=False)"
   ]
  },
  {
   "cell_type": "markdown",
   "metadata": {},
   "source": [
    "###2-5 Extracting classification data (for training data) from analysis document"
   ]
  },
  {
   "cell_type": "markdown",
   "metadata": {},
   "source": [
    "18 lessons were analyzed by human experts and it was determined which items in the lessons were good candidates for removal. The results of the analysis are saved in a docx file. This information is extracted, processed, and merged with the existing data."
   ]
  },
  {
   "cell_type": "code",
   "execution_count": 112,
   "metadata": {
    "collapsed": true
   },
   "outputs": [],
   "source": [
    "#Extracting classification data\n",
    "docpath = 'C:/Users/eabalo/Desktop/STAAR35Analyses/manuscript/Strategies_to_shorten_STAAR_lessons_2.docx'\n",
    "\n",
    "doc = Document(docpath)"
   ]
  },
  {
   "cell_type": "code",
   "execution_count": 113,
   "metadata": {
    "collapsed": false
   },
   "outputs": [
    {
     "name": "stdout",
     "output_type": "stream",
     "text": [
      "[u'3.8A', u'3.5E', u'3.6A', u'3.8B', u'3.4G', u'3.7C', u'4.4H', u'4.4A', u'4.4F', u'4.4D', u'4.5B', u'4.6C', u'5.4H', u'5.3K', u'5.9C', u'5.4D', u'5.7A', u'5.3B']\n"
     ]
    }
   ],
   "source": [
    "lessonnum = []\n",
    "for table in doc.tables[1:]:\n",
    "    for paragraph in table.rows[0].cells[1].paragraphs:\n",
    "        lessonnum.append(paragraph.text)\n",
    "print lessonnum"
   ]
  },
  {
   "cell_type": "code",
   "execution_count": 114,
   "metadata": {
    "collapsed": false
   },
   "outputs": [
    {
     "name": "stdout",
     "output_type": "stream",
     "text": [
      "[u'th090, th091 (6:57), pr001 (2:18), pr002 (2:17), pr003 (4:06), pr004 (1:11), pr005 (1:26), pr006 (1:45), ', u'pr001 (2:15), th030 (4:15), th050 (5:26), th060 (5:08), pr006* (2:17), ']\n"
     ]
    }
   ],
   "source": [
    "cloneinfo = []\n",
    "\n",
    "for table in doc.tables[1:]:\n",
    "    textinfo = ''\n",
    "    for paragraph in table.rows[6].cells[1].paragraphs:\n",
    "        textinfo += paragraph.text + ', '\n",
    "    cloneinfo.append(textinfo)\n",
    "print cloneinfo[:2]"
   ]
  },
  {
   "cell_type": "code",
   "execution_count": 115,
   "metadata": {
    "collapsed": false
   },
   "outputs": [],
   "source": [
    "df_temp2 = pd.DataFrame(zip(lessonnum, cloneinfo), columns = ['Lesson', 'Cut?'])"
   ]
  },
  {
   "cell_type": "code",
   "execution_count": 116,
   "metadata": {
    "collapsed": false
   },
   "outputs": [
    {
     "data": {
      "text/html": [
       "<div style=\"max-height:1000px;max-width:1500px;overflow:auto;\">\n",
       "<table border=\"1\" class=\"dataframe\">\n",
       "  <thead>\n",
       "    <tr style=\"text-align: right;\">\n",
       "      <th></th>\n",
       "      <th>Lesson</th>\n",
       "      <th>Cut?</th>\n",
       "    </tr>\n",
       "  </thead>\n",
       "  <tbody>\n",
       "    <tr>\n",
       "      <th>0</th>\n",
       "      <td>3.8A</td>\n",
       "      <td>th090, th091 (6:57), pr001 (2:18), pr002 (2:17...</td>\n",
       "    </tr>\n",
       "    <tr>\n",
       "      <th>1</th>\n",
       "      <td>3.5E</td>\n",
       "      <td>pr001 (2:15), th030 (4:15), th050 (5:26), th06...</td>\n",
       "    </tr>\n",
       "    <tr>\n",
       "      <th>2</th>\n",
       "      <td>3.6A</td>\n",
       "      <td>th008 (3:14), th010 (1:25), th019 (1:17), th02...</td>\n",
       "    </tr>\n",
       "    <tr>\n",
       "      <th>3</th>\n",
       "      <td>3.8B</td>\n",
       "      <td>pr001 (1:34), th060 (3:02), pr007 (1:47) (?), ...</td>\n",
       "    </tr>\n",
       "    <tr>\n",
       "      <th>4</th>\n",
       "      <td>3.4G</td>\n",
       "      <td>pr002 (3:04), pr003 (4:00), th001 (4:27), pr00...</td>\n",
       "    </tr>\n",
       "  </tbody>\n",
       "</table>\n",
       "</div>"
      ],
      "text/plain": [
       "  Lesson                                               Cut?\n",
       "0   3.8A  th090, th091 (6:57), pr001 (2:18), pr002 (2:17...\n",
       "1   3.5E  pr001 (2:15), th030 (4:15), th050 (5:26), th06...\n",
       "2   3.6A  th008 (3:14), th010 (1:25), th019 (1:17), th02...\n",
       "3   3.8B  pr001 (1:34), th060 (3:02), pr007 (1:47) (?), ...\n",
       "4   3.4G  pr002 (3:04), pr003 (4:00), th001 (4:27), pr00..."
      ]
     },
     "metadata": {},
     "output_type": "display_data"
    },
    {
     "name": "stdout",
     "output_type": "stream",
     "text": [
      "(18, 2)\n"
     ]
    }
   ],
   "source": [
    "display(df_temp2.head())\n",
    "print df_temp2.shape"
   ]
  },
  {
   "cell_type": "code",
   "execution_count": 117,
   "metadata": {
    "collapsed": false
   },
   "outputs": [
    {
     "data": {
      "text/html": [
       "<div style=\"max-height:1000px;max-width:1500px;overflow:auto;\">\n",
       "<table border=\"1\" class=\"dataframe\">\n",
       "  <thead>\n",
       "    <tr style=\"text-align: right;\">\n",
       "      <th></th>\n",
       "      <th>Lesson</th>\n",
       "      <th>Cut?</th>\n",
       "    </tr>\n",
       "  </thead>\n",
       "  <tbody>\n",
       "    <tr>\n",
       "      <th>0</th>\n",
       "      <td>3.8A</td>\n",
       "      <td>th090, th091 , pr001 , pr002 , pr003 , pr004 ,...</td>\n",
       "    </tr>\n",
       "    <tr>\n",
       "      <th>1</th>\n",
       "      <td>3.5E</td>\n",
       "      <td>pr001 , th030 , th050 , th060 , pr006 ,</td>\n",
       "    </tr>\n",
       "    <tr>\n",
       "      <th>2</th>\n",
       "      <td>3.6A</td>\n",
       "      <td>th008 , th010 , th019 , th026, th027, th028, t...</td>\n",
       "    </tr>\n",
       "    <tr>\n",
       "      <th>3</th>\n",
       "      <td>3.8B</td>\n",
       "      <td>pr001 , th060 , pr007  , th130, th133, th137 ,...</td>\n",
       "    </tr>\n",
       "    <tr>\n",
       "      <th>4</th>\n",
       "      <td>3.4G</td>\n",
       "      <td>pr002 , pr003 , th001 , pr001 , th007 , pr004 ...</td>\n",
       "    </tr>\n",
       "  </tbody>\n",
       "</table>\n",
       "</div>"
      ],
      "text/plain": [
       "  Lesson                                               Cut?\n",
       "0   3.8A  th090, th091 , pr001 , pr002 , pr003 , pr004 ,...\n",
       "1   3.5E           pr001 , th030 , th050 , th060 , pr006 , \n",
       "2   3.6A  th008 , th010 , th019 , th026, th027, th028, t...\n",
       "3   3.8B  pr001 , th060 , pr007  , th130, th133, th137 ,...\n",
       "4   3.4G  pr002 , pr003 , th001 , pr001 , th007 , pr004 ..."
      ]
     },
     "execution_count": 117,
     "metadata": {},
     "output_type": "execute_result"
    }
   ],
   "source": [
    "#removing durations and other symbols from extracted data\n",
    "df_temp2['Cut?'] = df_temp2['Cut?'].str.replace(r'\\(.+?\\)|\\*', '')\n",
    "df_temp2.head()"
   ]
  },
  {
   "cell_type": "code",
   "execution_count": 118,
   "metadata": {
    "collapsed": false
   },
   "outputs": [
    {
     "data": {
      "text/html": [
       "<div style=\"max-height:1000px;max-width:1500px;overflow:auto;\">\n",
       "<table border=\"1\" class=\"dataframe\">\n",
       "  <thead>\n",
       "    <tr style=\"text-align: right;\">\n",
       "      <th></th>\n",
       "      <th>Lesson</th>\n",
       "      <th>Cut?</th>\n",
       "    </tr>\n",
       "  </thead>\n",
       "  <tbody>\n",
       "    <tr>\n",
       "      <th>0</th>\n",
       "      <td>3.8A</td>\n",
       "      <td>th090, th091, pr001, pr002, pr003, pr004, pr00...</td>\n",
       "    </tr>\n",
       "    <tr>\n",
       "      <th>1</th>\n",
       "      <td>3.5E</td>\n",
       "      <td>pr001, th030, th050, th060, pr006,</td>\n",
       "    </tr>\n",
       "    <tr>\n",
       "      <th>2</th>\n",
       "      <td>3.6A</td>\n",
       "      <td>th008, th010, th019, th026, th027, th028, th029,</td>\n",
       "    </tr>\n",
       "    <tr>\n",
       "      <th>3</th>\n",
       "      <td>3.8B</td>\n",
       "      <td>pr001, th060, pr007 , th130, th133, th137, th0...</td>\n",
       "    </tr>\n",
       "    <tr>\n",
       "      <th>4</th>\n",
       "      <td>3.4G</td>\n",
       "      <td>pr002, pr003, th001, pr001, th007, pr004, pr00...</td>\n",
       "    </tr>\n",
       "  </tbody>\n",
       "</table>\n",
       "</div>"
      ],
      "text/plain": [
       "  Lesson                                               Cut?\n",
       "0   3.8A  th090, th091, pr001, pr002, pr003, pr004, pr00...\n",
       "1   3.5E                pr001, th030, th050, th060, pr006, \n",
       "2   3.6A  th008, th010, th019, th026, th027, th028, th029, \n",
       "3   3.8B  pr001, th060, pr007 , th130, th133, th137, th0...\n",
       "4   3.4G  pr002, pr003, th001, pr001, th007, pr004, pr00..."
      ]
     },
     "execution_count": 118,
     "metadata": {},
     "output_type": "execute_result"
    }
   ],
   "source": [
    "#Correcting the placement of commas\n",
    "df_temp2['Cut?'] = df_temp2['Cut?'].str.replace(r' ,', ',')\n",
    "df_temp2.head()"
   ]
  },
  {
   "cell_type": "code",
   "execution_count": 119,
   "metadata": {
    "collapsed": false
   },
   "outputs": [],
   "source": [
    "# function to standardize lesson names\n",
    "# for example, it changes 3.2A to 302A, and 4.10AB to 410AB\n",
    "def lessonname(string):\n",
    "    a, b = string.split('.')\n",
    "    output = ''\n",
    "    if re.match(r'(\\d{1})([A-Z]{1,3})', b):\n",
    "        output += a + '0' + b\n",
    "    elif re.match(r'(\\d{2})([A-Z]{1,3})', b):\n",
    "        output += a + b\n",
    "    return output\n",
    "\n",
    "df_temp2['Lesson'] = df_temp2['Lesson'].apply(lessonname)"
   ]
  },
  {
   "cell_type": "code",
   "execution_count": 120,
   "metadata": {
    "collapsed": false
   },
   "outputs": [
    {
     "data": {
      "text/html": [
       "<div style=\"max-height:1000px;max-width:1500px;overflow:auto;\">\n",
       "<table border=\"1\" class=\"dataframe\">\n",
       "  <thead>\n",
       "    <tr style=\"text-align: right;\">\n",
       "      <th></th>\n",
       "      <th>Lesson</th>\n",
       "      <th>Cut?</th>\n",
       "    </tr>\n",
       "  </thead>\n",
       "  <tbody>\n",
       "    <tr>\n",
       "      <th>0</th>\n",
       "      <td>308A</td>\n",
       "      <td>th090, th091, pr001, pr002, pr003, pr004, pr00...</td>\n",
       "    </tr>\n",
       "    <tr>\n",
       "      <th>1</th>\n",
       "      <td>305E</td>\n",
       "      <td>pr001, th030, th050, th060, pr006,</td>\n",
       "    </tr>\n",
       "    <tr>\n",
       "      <th>2</th>\n",
       "      <td>306A</td>\n",
       "      <td>th008, th010, th019, th026, th027, th028, th029,</td>\n",
       "    </tr>\n",
       "    <tr>\n",
       "      <th>3</th>\n",
       "      <td>308B</td>\n",
       "      <td>pr001, th060, pr007 , th130, th133, th137, th0...</td>\n",
       "    </tr>\n",
       "    <tr>\n",
       "      <th>4</th>\n",
       "      <td>304G</td>\n",
       "      <td>pr002, pr003, th001, pr001, th007, pr004, pr00...</td>\n",
       "    </tr>\n",
       "  </tbody>\n",
       "</table>\n",
       "</div>"
      ],
      "text/plain": [
       "  Lesson                                               Cut?\n",
       "0   308A  th090, th091, pr001, pr002, pr003, pr004, pr00...\n",
       "1   305E                pr001, th030, th050, th060, pr006, \n",
       "2   306A  th008, th010, th019, th026, th027, th028, th029, \n",
       "3   308B  pr001, th060, pr007 , th130, th133, th137, th0...\n",
       "4   304G  pr002, pr003, th001, pr001, th007, pr004, pr00..."
      ]
     },
     "execution_count": 120,
     "metadata": {},
     "output_type": "execute_result"
    }
   ],
   "source": [
    "df_temp2.head()"
   ]
  },
  {
   "cell_type": "code",
   "execution_count": 121,
   "metadata": {
    "collapsed": false
   },
   "outputs": [
    {
     "name": "stdout",
     "output_type": "stream",
     "text": [
      "[u'TEKS308A-th090', u'TEKS308A-th091', u'TEKS308A-pr001', u'TEKS308A-pr002', u'TEKS308A-pr003']\n"
     ]
    }
   ],
   "source": [
    "#Reformatting data to get UID\n",
    "lessonnum = df_temp2['Lesson']\n",
    "lessonitems = df_temp2['Cut?']\n",
    "\n",
    "cutitems = []\n",
    "for i in range(len(lessonnum)):\n",
    "    preuid = 'TEKS' + lessonnum[i] + '-'\n",
    "    postuid = lessonitems[i].split(',')\n",
    "    itemuid = [preuid + j.strip() for j in postuid]\n",
    "    cutitems += itemuid\n",
    "print cutitems[:5]"
   ]
  },
  {
   "cell_type": "code",
   "execution_count": 122,
   "metadata": {
    "collapsed": false
   },
   "outputs": [],
   "source": [
    "#Creating a dataframe labeling the lesson items selected to be cut\n",
    "df_cut = pd.DataFrame(columns=['UID', 'Cut?'])\n",
    "df_cut['UID'] = cutitems\n",
    "df_cut['Cut?'] = 1"
   ]
  },
  {
   "cell_type": "code",
   "execution_count": 123,
   "metadata": {
    "collapsed": false
   },
   "outputs": [
    {
     "data": {
      "text/html": [
       "<div style=\"max-height:1000px;max-width:1500px;overflow:auto;\">\n",
       "<table border=\"1\" class=\"dataframe\">\n",
       "  <thead>\n",
       "    <tr style=\"text-align: right;\">\n",
       "      <th></th>\n",
       "      <th>UID</th>\n",
       "      <th>Cut?</th>\n",
       "    </tr>\n",
       "  </thead>\n",
       "  <tbody>\n",
       "    <tr>\n",
       "      <th>8</th>\n",
       "      <td>TEKS308A-</td>\n",
       "      <td>1</td>\n",
       "    </tr>\n",
       "    <tr>\n",
       "      <th>14</th>\n",
       "      <td>TEKS305E-</td>\n",
       "      <td>1</td>\n",
       "    </tr>\n",
       "    <tr>\n",
       "      <th>22</th>\n",
       "      <td>TEKS306A-</td>\n",
       "      <td>1</td>\n",
       "    </tr>\n",
       "    <tr>\n",
       "      <th>34</th>\n",
       "      <td>TEKS308B-</td>\n",
       "      <td>1</td>\n",
       "    </tr>\n",
       "    <tr>\n",
       "      <th>42</th>\n",
       "      <td>TEKS304G-</td>\n",
       "      <td>1</td>\n",
       "    </tr>\n",
       "  </tbody>\n",
       "</table>\n",
       "</div>"
      ],
      "text/plain": [
       "          UID  Cut?\n",
       "8   TEKS308A-     1\n",
       "14  TEKS305E-     1\n",
       "22  TEKS306A-     1\n",
       "34  TEKS308B-     1\n",
       "42  TEKS304G-     1"
      ]
     },
     "execution_count": 123,
     "metadata": {},
     "output_type": "execute_result"
    }
   ],
   "source": [
    "#selecting items with incorrect uid\n",
    "df_cut[df_cut['UID'].map(len)<14].head()"
   ]
  },
  {
   "cell_type": "code",
   "execution_count": 124,
   "metadata": {
    "collapsed": false
   },
   "outputs": [
    {
     "data": {
      "text/html": [
       "<div style=\"max-height:1000px;max-width:1500px;overflow:auto;\">\n",
       "<table border=\"1\" class=\"dataframe\">\n",
       "  <thead>\n",
       "    <tr style=\"text-align: right;\">\n",
       "      <th></th>\n",
       "      <th>UID</th>\n",
       "      <th>Cut?</th>\n",
       "    </tr>\n",
       "  </thead>\n",
       "  <tbody>\n",
       "    <tr>\n",
       "      <th>0</th>\n",
       "      <td>TEKS308A-th090</td>\n",
       "      <td>1</td>\n",
       "    </tr>\n",
       "    <tr>\n",
       "      <th>1</th>\n",
       "      <td>TEKS308A-th091</td>\n",
       "      <td>1</td>\n",
       "    </tr>\n",
       "    <tr>\n",
       "      <th>2</th>\n",
       "      <td>TEKS308A-pr001</td>\n",
       "      <td>1</td>\n",
       "    </tr>\n",
       "    <tr>\n",
       "      <th>3</th>\n",
       "      <td>TEKS308A-pr002</td>\n",
       "      <td>1</td>\n",
       "    </tr>\n",
       "    <tr>\n",
       "      <th>4</th>\n",
       "      <td>TEKS308A-pr003</td>\n",
       "      <td>1</td>\n",
       "    </tr>\n",
       "  </tbody>\n",
       "</table>\n",
       "</div>"
      ],
      "text/plain": [
       "              UID  Cut?\n",
       "0  TEKS308A-th090     1\n",
       "1  TEKS308A-th091     1\n",
       "2  TEKS308A-pr001     1\n",
       "3  TEKS308A-pr002     1\n",
       "4  TEKS308A-pr003     1"
      ]
     },
     "metadata": {},
     "output_type": "display_data"
    },
    {
     "data": {
      "text/plain": [
       "(132, 2)"
      ]
     },
     "execution_count": 124,
     "metadata": {},
     "output_type": "execute_result"
    }
   ],
   "source": [
    "#removing all rows with incorrect uid\n",
    "df_cut.drop(df_cut[df_cut['UID'].map(len)<14].index, inplace = True)\n",
    "\n",
    "#dropping duplicate rows\n",
    "df_cut.drop_duplicates(inplace = True)\n",
    "\n",
    "display(df_cut.head())\n",
    "df_cut.shape"
   ]
  },
  {
   "cell_type": "markdown",
   "metadata": {},
   "source": [
    "###2-7 Merging classification information to 3 longest lessons per grade per type"
   ]
  },
  {
   "cell_type": "code",
   "execution_count": 125,
   "metadata": {
    "collapsed": true
   },
   "outputs": [],
   "source": [
    "#data folder\n",
    "datafolder = 'C:/Users/eabalo/Desktop/STAAR35Analyses/data/cleaned data/'\n",
    "#import data\n",
    "df_thpr2 = pd.read_csv(datafolder + 'df_longLessons.csv')"
   ]
  },
  {
   "cell_type": "code",
   "execution_count": 126,
   "metadata": {
    "collapsed": false
   },
   "outputs": [
    {
     "data": {
      "text/plain": [
       "Index([u'Lesson', u'Grade level', u'Supporting/Readiness',\n",
       "       u'50th percentile duration', u'80th percentile duration', u'Accuracy',\n",
       "       u'Accuracy/Duration', u'Theory?', u'UID', u'Duration z-score',\n",
       "       u'Accuracy z-score', u'Lesson duration', u'Clone?'],\n",
       "      dtype='object')"
      ]
     },
     "execution_count": 126,
     "metadata": {},
     "output_type": "execute_result"
    }
   ],
   "source": [
    "df_thpr2.columns"
   ]
  },
  {
   "cell_type": "code",
   "execution_count": 127,
   "metadata": {
    "collapsed": false
   },
   "outputs": [],
   "source": [
    "df_thpr2 = pd.merge(df_thpr2, df_cut, how='outer', on = 'UID')"
   ]
  },
  {
   "cell_type": "code",
   "execution_count": 128,
   "metadata": {
    "collapsed": false
   },
   "outputs": [
    {
     "data": {
      "text/plain": [
       "(345, 14)"
      ]
     },
     "execution_count": 128,
     "metadata": {},
     "output_type": "execute_result"
    }
   ],
   "source": [
    "df_thpr2.shape"
   ]
  },
  {
   "cell_type": "code",
   "execution_count": 129,
   "metadata": {
    "collapsed": true
   },
   "outputs": [],
   "source": [
    "#fill missing data in 'Cut?' with 0 (for items that were not selected to be cut)\n",
    "df_thpr2['Cut?'].fillna(0, inplace=True);"
   ]
  },
  {
   "cell_type": "code",
   "execution_count": 130,
   "metadata": {
    "collapsed": true
   },
   "outputs": [],
   "source": [
    "#Exporting data for 3 longest lessons per grade per lesson type (with Clone indices)\n",
    "\n",
    "cleandatapath = 'C:/Users/eabalo/Desktop/STAAR35Analyses/data/cleaned data/'\n",
    "\n",
    "df_thpr2.to_csv(cleandatapath + 'df_longLessons_final.csv', index=False)"
   ]
  },
  {
   "cell_type": "code",
   "execution_count": null,
   "metadata": {
    "collapsed": true
   },
   "outputs": [],
   "source": []
  }
 ],
 "metadata": {
  "kernelspec": {
   "display_name": "Python 2",
   "language": "python",
   "name": "python2"
  },
  "language_info": {
   "codemirror_mode": {
    "name": "ipython",
    "version": 2
   },
   "file_extension": ".py",
   "mimetype": "text/x-python",
   "name": "python",
   "nbconvert_exporter": "python",
   "pygments_lexer": "ipython2",
   "version": "2.7.8"
  }
 },
 "nbformat": 4,
 "nbformat_minor": 0
}
